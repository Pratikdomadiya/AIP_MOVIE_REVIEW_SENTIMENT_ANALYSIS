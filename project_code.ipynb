{
 "cells": [
  {
   "cell_type": "code",
   "execution_count": 1,
   "id": "9b092ce9",
   "metadata": {},
   "outputs": [
    {
     "name": "stderr",
     "output_type": "stream",
     "text": [
      "[nltk_data] Downloading package stopwords to\n",
      "[nltk_data]     /Users/pratikdomadiya/nltk_data...\n",
      "[nltk_data]   Package stopwords is already up-to-date!\n",
      "[nltk_data] Downloading package punkt to\n",
      "[nltk_data]     /Users/pratikdomadiya/nltk_data...\n",
      "[nltk_data]   Package punkt is already up-to-date!\n",
      "[nltk_data] Downloading package wordnet to\n",
      "[nltk_data]     /Users/pratikdomadiya/nltk_data...\n",
      "[nltk_data]   Package wordnet is already up-to-date!\n",
      "[nltk_data] Downloading package averaged_perceptron_tagger to\n",
      "[nltk_data]     /Users/pratikdomadiya/nltk_data...\n",
      "[nltk_data]   Package averaged_perceptron_tagger is already up-to-\n",
      "[nltk_data]       date!\n",
      "[nltk_data] Downloading package sentiwordnet to\n",
      "[nltk_data]     /Users/pratikdomadiya/nltk_data...\n",
      "[nltk_data]   Package sentiwordnet is already up-to-date!\n"
     ]
    },
    {
     "data": {
      "text/html": [
       "        <script type=\"text/javascript\">\n",
       "        window.PlotlyConfig = {MathJaxConfig: 'local'};\n",
       "        if (window.MathJax && window.MathJax.Hub && window.MathJax.Hub.Config) {window.MathJax.Hub.Config({SVG: {font: \"STIX-Web\"}});}\n",
       "        if (typeof require !== 'undefined') {\n",
       "        require.undef(\"plotly\");\n",
       "        requirejs.config({\n",
       "            paths: {\n",
       "                'plotly': ['https://cdn.plot.ly/plotly-2.12.1.min']\n",
       "            }\n",
       "        });\n",
       "        require(['plotly'], function(Plotly) {\n",
       "            window._Plotly = Plotly;\n",
       "        });\n",
       "        }\n",
       "        </script>\n",
       "        "
      ]
     },
     "metadata": {},
     "output_type": "display_data"
    }
   ],
   "source": [
    "import pandas as pd\n",
    "import numpy as np\n",
    "from nltk.stem import WordNetLemmatizer\n",
    "import nltk\n",
    "nltk.download('stopwords')\n",
    "nltk.download('punkt')\n",
    "nltk.download('wordnet')\n",
    "nltk.download('averaged_perceptron_tagger')\n",
    "nltk.download('sentiwordnet')\n",
    "from nltk.corpus import stopwords \n",
    "from nltk.tokenize import word_tokenize \n",
    "import re\n",
    "import spacy\n",
    "from nltk.corpus import sentiwordnet as swn\n",
    "from IPython.display import clear_output\n",
    "import plotly.express as px\n",
    "import seaborn as sns\n",
    "import matplotlib.pyplot as plt\n",
    "from wordcloud import WordCloud\n",
    "import plotly\n",
    "plotly.offline.init_notebook_mode (connected = True)\n",
    "import time\n",
    "import boto3\n",
    "import os\n",
    "import requests\n",
    "import tqdm\n",
    "import pandas as pd\n",
    "from dynamodb_json import json_util as json\n",
    "import pickle\n",
    "from sklearn.feature_extraction.text import CountVectorizer\n",
    "from sklearn.naive_bayes import MultinomialNB\n",
    "from sklearn.tree import DecisionTreeClassifier\n",
    "from sklearn.svm import LinearSVC\n",
    "from sklearn.feature_extraction.text import TfidfVectorizer\n",
    "from sklearn.pipeline import Pipeline\n",
    "import joblib\n"
   ]
  },
  {
   "cell_type": "code",
   "execution_count": 2,
   "id": "8117e80f",
   "metadata": {},
   "outputs": [],
   "source": [
    "# pip install dynamodb_json"
   ]
  },
  {
   "cell_type": "code",
   "execution_count": 3,
   "id": "31419e66",
   "metadata": {},
   "outputs": [
    {
     "data": {
      "text/plain": [
       "<bound method NDFrame.head of        Unnamed: 0                                             review  \\\n",
       "0               0  One of the other reviewers has mentioned that ...   \n",
       "1               1  A wonderful little production. <br /><br />The...   \n",
       "2               2  I thought this was a wonderful way to spend ti...   \n",
       "3               3  Basically there's a family where a little boy ...   \n",
       "4               4  Petter Mattei's \"Love in the Time of Money\" is...   \n",
       "...           ...                                                ...   \n",
       "49995       49995  I thought this movie did a down right good job...   \n",
       "49996       49996  Bad plot, bad dialogue, bad acting, idiotic di...   \n",
       "49997       49997  I am a Catholic taught in parochial elementary...   \n",
       "49998       49998  I'm going to have to disagree with the previou...   \n",
       "49999       49999  No one expects the Star Trek movies to be high...   \n",
       "\n",
       "       sentiment                           Review_without_stopwords  \\\n",
       "0              1  one reviewers mentioned watching 1 oz episode ...   \n",
       "1              1  wonderful little production br br filming tech...   \n",
       "2              1  thought waswonderful way spend time ontoo hot ...   \n",
       "3              0  basically therea family wherelittle boy jake t...   \n",
       "4              1  petter matteilove time money isvisually stunni...   \n",
       "...          ...                                                ...   \n",
       "49995          1  thought movie diddown right good job wasnas cr...   \n",
       "49996          0  bad plot bad dialogue bad acting idiotic direc...   \n",
       "49997          0  amcatholic taught parochial elementary schools...   \n",
       "49998          0  igoing disagree previous comment side maltin o...   \n",
       "49999          0  one expects star trek movies high art fans exp...   \n",
       "\n",
       "                                     After_lemmatization  \\\n",
       "0      one reviewer mentioned watching episode hooked...   \n",
       "1      wonderful little production filming technique ...   \n",
       "2      thought waswonderful way spend time ontoo hot ...   \n",
       "3      basically therea family wherelittle boy jake t...   \n",
       "4      petter matteilove time money isvisually stunni...   \n",
       "...                                                  ...   \n",
       "49995  thought movie diddown right good job wasnas cr...   \n",
       "49996  bad plot bad dialogue bad acting idiotic direc...   \n",
       "49997  amcatholic taught parochial elementary school ...   \n",
       "49998  igoing disagree previous comment side maltin o...   \n",
       "49999  one expects star trek movie high art fan expec...   \n",
       "\n",
       "                                                pos_tags  senti_score  \\\n",
       "0      [('one', 'CD'), ('reviewer', 'NN'), ('mentione...       -2.125   \n",
       "1      [('wonderful', 'JJ'), ('little', 'JJ'), ('prod...        5.000   \n",
       "2      [('thought', 'VBN'), ('waswonderful', 'JJ'), (...        0.250   \n",
       "3      [('basically', 'RB'), ('therea', 'JJ'), ('fami...        1.750   \n",
       "4      [('petter', 'NN'), ('matteilove', 'NN'), ('tim...        6.625   \n",
       "...                                                  ...          ...   \n",
       "49995  [('thought', 'VBN'), ('movie', 'NN'), ('diddow...        0.125   \n",
       "49996  [('bad', 'JJ'), ('plot', 'NN'), ('bad', 'JJ'),...       -0.500   \n",
       "49997  [('amcatholic', 'JJ'), ('taught', 'VBD'), ('pa...       -2.500   \n",
       "49998  [('igoing', 'VBG'), ('disagree', 'VBP'), ('pre...       -4.375   \n",
       "49999  [('one', 'CD'), ('expects', 'VBZ'), ('star', '...        0.750   \n",
       "\n",
       "      Overall Sentiment  \n",
       "0              Negative  \n",
       "1              Positive  \n",
       "2              Positive  \n",
       "3              Positive  \n",
       "4              Positive  \n",
       "...                 ...  \n",
       "49995          Positive  \n",
       "49996          Negative  \n",
       "49997          Negative  \n",
       "49998          Negative  \n",
       "49999          Positive  \n",
       "\n",
       "[50000 rows x 8 columns]>"
      ]
     },
     "execution_count": 3,
     "metadata": {},
     "output_type": "execute_result"
    }
   ],
   "source": [
    "# USE CLEANED DATA DIRECTLY FROM G-DRIVE\n",
    "url =\"https://drive.google.com/file/d/1nTDGojnICIvRZBWoQIPXdiwsfFkE8q98/view?usp=sharing\"\n",
    "\n",
    "new_url = 'https://drive.google.com/uc?export=download&id=' + url.split('/')[-2] #Save into temporary location or into heap\n",
    "data = pd.read_csv(\"/Users/pratikdomadiya/Downloads/cleaned (1).csv\")\n",
    "data.head\n"
   ]
  },
  {
   "cell_type": "code",
   "execution_count": 4,
   "id": "6cc03138",
   "metadata": {},
   "outputs": [
    {
     "name": "stdout",
     "output_type": "stream",
     "text": [
      "One of the other reviewers has mentioned that after watching just 1 Oz episode you'll be hooked. They are right, as this is exactly what happened with me.<br /><br />The first thing that struck me about Oz was its brutality and unflinching scenes of violence, which set in right from the word GO. Trust me, this is not a show for the faint hearted or timid. This show pulls no punches with regards to drugs, sex or violence. Its is hardcore, in the classic use of the word.<br /><br />It is called OZ as that is the nickname given to the Oswald Maximum Security State Penitentary. It focuses mainly on Emerald City, an experimental section of the prison where all the cells have glass fronts and face inwards, so privacy is not high on the agenda. Em City is home to many..Aryans, Muslims, gangstas, Latinos, Christians, Italians, Irish and more....so scuffles, death stares, dodgy dealings and shady agreements are never far away.<br /><br />I would say the main appeal of the show is due to the fact that it goes where other shows wouldn't dare. Forget pretty pictures painted for mainstream audiences, forget charm, forget romance...OZ doesn't mess around. The first episode I ever saw struck me as so nasty it was surreal, I couldn't say I was ready for it, but as I watched more, I developed a taste for Oz, and got accustomed to the high levels of graphic violence. Not just violence, but injustice (crooked guards who'll be sold out for a nickel, inmates who'll kill on order and get away with it, well mannered, middle class inmates being turned into prison bitches due to their lack of street skills or prison experience) Watching Oz, you may become comfortable with what is uncomfortable viewing....thats if you can get in touch with your darker side.\n",
      "------------------------\n",
      "A wonderful little production. <br /><br />The filming technique is very unassuming- very old-time-BBC fashion and gives a comforting, and sometimes discomforting, sense of realism to the entire piece. <br /><br />The actors are extremely well chosen- Michael Sheen not only \"has got all the polari\" but he has all the voices down pat too! You can truly see the seamless editing guided by the references to Williams' diary entries, not only is it well worth the watching but it is a terrificly written and performed piece. A masterful production about one of the great master's of comedy and his life. <br /><br />The realism really comes home with the little things: the fantasy of the guard which, rather than use the traditional 'dream' techniques remains solid then disappears. It plays on our knowledge and our senses, particularly with the scenes concerning Orton and Halliwell and the sets (particularly of their flat with Halliwell's murals decorating every surface) are terribly well done.\n",
      "------------------------\n",
      "I thought this was a wonderful way to spend time on a too hot summer weekend, sitting in the air conditioned theater and watching a light-hearted comedy. The plot is simplistic, but the dialogue is witty and the characters are likable (even the well bread suspected serial killer). While some may be disappointed when they realize this is not Match Point 2: Risk Addiction, I thought it was proof that Woody Allen is still fully in control of the style many of us have grown to love.<br /><br />This was the most I'd laughed at one of Woody's comedies in years (dare I say a decade?). While I've never been impressed with Scarlet Johanson, in this she managed to tone down her \"sexy\" image and jumped right into a average, but spirited young woman.<br /><br />This may not be the crown jewel of his career, but it was wittier than \"Devil Wears Prada\" and more interesting than \"Superman\" a great comedy to go see with friends.\n",
      "------------------------\n",
      "Basically there's a family where a little boy (Jake) thinks there's a zombie in his closet & his parents are fighting all the time.<br /><br />This movie is slower than a soap opera... and suddenly, Jake decides to become Rambo and kill the zombie.<br /><br />OK, first of all when you're going to make a film you must Decide if its a thriller or a drama! As a drama the movie is watchable. Parents are divorcing & arguing like in real life. And then we have Jake with his closet which totally ruins all the film! I expected to see a BOOGEYMAN similar movie, and instead i watched a drama with some meaningless thriller spots.<br /><br />3 out of 10 just for the well playing parents & descent dialogs. As for the shots with Jake: just ignore them.\n",
      "------------------------\n",
      "Petter Mattei's \"Love in the Time of Money\" is a visually stunning film to watch. Mr. Mattei offers us a vivid portrait about human relations. This is a movie that seems to be telling us what money, power and success do to people in the different situations we encounter. <br /><br />This being a variation on the Arthur Schnitzler's play about the same theme, the director transfers the action to the present time New York where all these different characters meet and connect. Each one is connected in one way, or another to the next person, but no one seems to know the previous point of contact. Stylishly, the film has a sophisticated luxurious look. We are taken to see how these people live and the world they live in their own habitat.<br /><br />The only thing one gets out of all these souls in the picture is the different stages of loneliness each one inhabits. A big city is not exactly the best place in which human relations find sincere fulfillment, as one discerns is the case with most of the people we encounter.<br /><br />The acting is good under Mr. Mattei's direction. Steve Buscemi, Rosario Dawson, Carol Kane, Michael Imperioli, Adrian Grenier, and the rest of the talented cast, make these characters come alive.<br /><br />We wish Mr. Mattei good luck and await anxiously for his next work.\n",
      "------------------------\n",
      "Probably my all-time favorite movie, a story of selflessness, sacrifice and dedication to a noble cause, but it's not preachy or boring. It just never gets old, despite my having seen it some 15 or more times in the last 25 years. Paul Lukas' performance brings tears to my eyes, and Bette Davis, in one of her very few truly sympathetic roles, is a delight. The kids are, as grandma says, more like \"dressed-up midgets\" than children, but that only makes them more fun to watch. And the mother's slow awakening to what's happening in the world and under her own roof is believable and startling. If I had a dozen thumbs, they'd all be \"up\" for this movie.\n",
      "------------------------\n",
      "I sure would like to see a resurrection of a up dated Seahunt series with the tech they have today it would bring back the kid excitement in me.I grew up on black and white TV and Seahunt with Gunsmoke were my hero's every week.You have my vote for a comeback of a new sea hunt.We need a change of pace in TV and this would work for a world of under water adventure.Oh by the way thank you for an outlet like this to view many viewpoints about TV and the many movies.So any ole way I believe I've got what I wanna say.Would be nice to read some more plus points about sea hunt.If my rhymes would be 10 lines would you let me submit,or leave me out to be in doubt and have me to quit,If this is so then I must go so lets do it.\n",
      "------------------------\n",
      "This show was an amazing, fresh & innovative idea in the 70's when it first aired. The first 7 or 8 years were brilliant, but things dropped off after that. By 1990, the show was not really funny anymore, and it's continued its decline further to the complete waste of time it is today.<br /><br />It's truly disgraceful how far this show has fallen. The writing is painfully bad, the performances are almost as bad - if not for the mildly entertaining respite of the guest-hosts, this show probably wouldn't still be on the air. I find it so hard to believe that the same creator that hand-selected the original cast also chose the band of hacks that followed. How can one recognize such brilliance and then see fit to replace it with such mediocrity? I felt I must give 2 stars out of respect for the original cast that made this show such a huge success. As it is now, the show is just awful. I can't believe it's still on the air.\n",
      "------------------------\n",
      "Encouraged by the positive comments about this film on here I was looking forward to watching this film. Bad mistake. I've seen 950+ films and this is truly one of the worst of them - it's awful in almost every way: editing, pacing, storyline, 'acting,' soundtrack (the film's only song - a lame country tune - is played no less than four times). The film looks cheap and nasty and is boring in the extreme. Rarely have I been so happy to see the end credits of a film. <br /><br />The only thing that prevents me giving this a 1-score is Harvey Keitel - while this is far from his best performance he at least seems to be making a bit of an effort. One for Keitel obsessives only.\n",
      "------------------------\n",
      "If you like original gut wrenching laughter you will like this movie. If you are young or old then you will love this movie, hell even my mom liked it.<br /><br />Great Camp!!!\n",
      "------------------------\n",
      "Phil the Alien is one of those quirky films where the humour is based around the oddness of everything rather than actual punchlines.<br /><br />At first it was very odd and pretty funny but as the movie progressed I didn't find the jokes or oddness funny anymore.<br /><br />Its a low budget film (thats never a problem in itself), there were some pretty interesting characters, but eventually I just lost interest.<br /><br />I imagine this film would appeal to a stoner who is currently partaking.<br /><br />For something similar but better try \"Brother from another planet\"\n",
      "------------------------\n",
      "I saw this movie when I was about 12 when it came out. I recall the scariest scene was the big bird eating men dangling helplessly from parachutes right out of the air. The horror. The horror.<br /><br />As a young kid going to these cheesy B films on Saturday afternoons, I still was tired of the formula for these monster type movies that usually included the hero, a beautiful woman who might be the daughter of a professor and a happy resolution when the monster died in the end. I didn't care much for the romantic angle as a 12 year old and the predictable plots. I love them now for the unintentional humor.<br /><br />But, about a year or so later, I saw Psycho when it came out and I loved that the star, Janet Leigh, was bumped off early in the film. I sat up and took notice at that point. Since screenwriters are making up the story, make it up to be as scary as possible and not from a well-worn formula. There are no rules.\n",
      "------------------------\n",
      "So im not a big fan of Boll's work but then again not many are. I enjoyed his movie Postal (maybe im the only one). Boll apparently bought the rights to use Far Cry long ago even before the game itself was even finsished. <br /><br />People who have enjoyed killing mercs and infiltrating secret research labs located on a tropical island should be warned, that this is not Far Cry... This is something Mr Boll have schemed together along with his legion of schmucks.. Feeling loneley on the set Mr Boll invites three of his countrymen to play with. These players go by the names of Til Schweiger, Udo Kier and Ralf Moeller.<br /><br />Three names that actually have made them selfs pretty big in the movie biz. So the tale goes like this, Jack Carver played by Til Schweiger (yes Carver is German all hail the bratwurst eating dudes!!) However I find that Tils acting in this movie is pretty badass.. People have complained about how he's not really staying true to the whole Carver agenda but we only saw carver in a first person perspective so we don't really know what he looked like when he was kicking a**.. <br /><br />However, the storyline in this film is beyond demented. We see the evil mad scientist Dr. Krieger played by Udo Kier, making Genetically-Mutated-soldiers or GMS as they are called. Performing his top-secret research on an island that reminds me of \"SPOILER\" Vancouver for some reason. Thats right no palm trees here. Instead we got some nice rich lumberjack-woods. We haven't even gone FAR before I started to CRY (mehehe) I cannot go on any more.. If you wanna stay true to Bolls shenanigans then go and see this movie you will not be disappointed it delivers the true Boll experience, meaning most of it will suck.<br /><br />There are some things worth mentioning that would imply that Boll did a good work on some areas of the film such as some nice boat and fighting scenes. Until the whole cromed/albino GMS squad enters the scene and everything just makes me laugh.. The movie Far Cry reeks of scheisse (that's poop for you simpletons) from a fa,r if you wanna take a wiff go ahead.. BTW Carver gets a very annoying sidekick who makes you wanna shoot him the first three minutes he's on screen.\n",
      "------------------------\n",
      "The cast played Shakespeare.<br /><br />Shakespeare lost.<br /><br />I appreciate that this is trying to bring Shakespeare to the masses, but why ruin something so good.<br /><br />Is it because 'The Scottish Play' is my favorite Shakespeare? I do not know. What I do know is that a certain Rev Bowdler (hence bowdlerization) tried to do something similar in the Victorian era.<br /><br />In other words, you cannot improve perfection.<br /><br />I have no more to write but as I have to write at least ten lines of text (and English composition was never my forte I will just have to keep going and say that this movie, as the saying goes, just does not cut it.\n",
      "------------------------\n",
      "This a fantastic movie of three prisoners who become famous. One of the actors is george clooney and I'm not a fan but this roll is not bad. Another good thing about the movie is the soundtrack (The man of constant sorrow). I recommand this movie to everybody. Greetings Bart\n",
      "------------------------\n",
      "Kind of drawn in by the erotic scenes, only to realize this was one of the most amateurish and unbelievable bits of film I've ever seen. Sort of like a high school film project. What was Rosanna Arquette thinking?? And what was with all those stock characters in that bizarre supposed Midwest town? Pretty hard to get involved with this one. No lessons to be learned from it, no brilliant insights, just stilted and quite ridiculous (but lots of skin, if that intrigues you) videotaped nonsense....What was with the bisexual relationship, out of nowhere, after all the heterosexual encounters. And what was with that absurd dance, with everybody playing their stereotyped roles? Give this one a pass, it's like a million other miles of bad, wasted film, money that could have been spent on starving children or Aids in Africa.....\n",
      "------------------------\n",
      "Some films just simply should not be remade. This is one of them. In and of itself it is not a bad film. But it fails to capture the flavor and the terror of the 1963 film of the same title. Liam Neeson was excellent as he always is, and most of the cast holds up, with the exception of Owen Wilson, who just did not bring the right feel to the character of Luke. But the major fault with this version is that it strayed too far from the Shirley Jackson story in it's attempts to be grandiose and lost some of the thrill of the earlier film in a trade off for snazzier special effects. Again I will say that in and of itself it is not a bad film. But you will enjoy the friction of terror in the older version much more.\n",
      "------------------------\n",
      "This movie made it into one of my top 10 most awful movies. Horrible. <br /><br />There wasn't a continuous minute where there wasn't a fight with one monster or another. There was no chance for any character development, they were too busy running from one sword fight to another. I had no emotional attachment (except to the big bad machine that wanted to destroy them) <br /><br />Scenes were blatantly stolen from other movies, LOTR, Star Wars and Matrix. <br /><br />Examples<br /><br />>The ghost scene at the end was stolen from the final scene of the old Star Wars with Yoda, Obee One and Vader. <br /><br />>The spider machine in the beginning was exactly like Frodo being attacked by the spider in Return of the Kings. (Elijah Wood is the victim in both films) and wait......it hypnotizes (stings) its victim and wraps them up.....uh hello????<br /><br />>And the whole machine vs. humans theme WAS the Matrix..or Terminator.....<br /><br />There are more examples but why waste the time? And will someone tell me what was with the Nazi's?!?! Nazi's???? <br /><br />There was a juvenile story line rushed to a juvenile conclusion. The movie could not decide if it was a children's movie or an adult movie and wasn't much of either. <br /><br />Just awful. A real disappointment to say the least. Save your money.\n",
      "------------------------\n",
      "I remember this film,it was the first film i had watched at the cinema the picture was dark in places i was very nervous it was back in 74/75 my Dad took me my brother & sister to Newbury cinema in Newbury Berkshire England. I recall the tigers and the lots of snow in the film also the appearance of Grizzly Adams actor Dan Haggery i think one of the tigers gets shot and dies. If anyone knows where to find this on DVD etc please let me know.The cinema now has been turned in a fitness club which is a very big shame as the nearest cinema now is 20 miles away, would love to hear from others who have seen this film or any other like it.\n",
      "------------------------\n",
      "An awful film! It must have been up against some real stinkers to be nominated for the Golden Globe. They've taken the story of the first famous female Renaissance painter and mangled it beyond recognition. My complaint is not that they've taken liberties with the facts; if the story were good, that would perfectly fine. But it's simply bizarre -- by all accounts the true story of this artist would have made for a far better film, so why did they come up with this dishwater-dull script? I suppose there weren't enough naked people in the factual version. It's hurriedly capped off in the end with a summary of the artist's life -- we could have saved ourselves a couple of hours if they'd favored the rest of the film with same brevity.\n",
      "------------------------\n"
     ]
    }
   ],
   "source": [
    "for i in range(20):\n",
    "    print(data['review'][i])\n",
    "    print(\"-\"*24)"
   ]
  },
  {
   "cell_type": "code",
   "execution_count": 16,
   "id": "095e6779",
   "metadata": {},
   "outputs": [
    {
     "name": "stdout",
     "output_type": "stream",
     "text": [
      "correct_positive :  20858\n",
      "incorrect_positive :  4142\n",
      "correct_negative :  11075\n",
      "incorrect_negative :  13925\n"
     ]
    }
   ],
   "source": [
    "correct_positive = data[data.sentiment==1]\n",
    "correct_positive = correct_positive[correct_positive['Overall Sentiment'] =='Positive']\n",
    "print(\"correct_positive : \",len(correct_positive))\n",
    "\n",
    "incorrect_positive = data[data.sentiment==1]\n",
    "incorrect_positive = incorrect_positive[incorrect_positive['Overall Sentiment'] =='Negative']\n",
    "print(\"incorrect_positive : \",len(incorrect_positive))\n",
    "\n",
    "correct_negative = data[data.sentiment==0]\n",
    "correct_negative = correct_negative[correct_negative['Overall Sentiment'] =='Negative']\n",
    "print(\"correct_negative : \",len(correct_negative))\n",
    "\n",
    "incorrect_negative = data[data.sentiment==0]\n",
    "incorrect_negative = incorrect_negative[incorrect_negative['Overall Sentiment'] =='Positive']\n",
    "print(\"incorrect_negative : \",len(incorrect_negative))\n"
   ]
  },
  {
   "cell_type": "code",
   "execution_count": 5,
   "id": "6be89d62",
   "metadata": {},
   "outputs": [],
   "source": [
    "data['reviews_text_new'] = data['After_lemmatization'].copy()"
   ]
  },
  {
   "cell_type": "code",
   "execution_count": 6,
   "id": "522a9105",
   "metadata": {},
   "outputs": [
    {
     "data": {
      "image/png": "[encoded data removed]",
      "text/plain": [
       "<Figure size 640x480 with 2 Axes>"
      ]
     },
     "metadata": {},
     "output_type": "display_data"
    }
   ],
   "source": [
    "import matplotlib.pyplot as plt\n",
    "import numpy\n",
    "from sklearn import metrics\n",
    "\n",
    "actual = data['sentiment'].replace({1:\"Positive\",0:\"Negative\"})\n",
    "predicted = data['Overall Sentiment']\n",
    "\n",
    "confusion_matrix = metrics.confusion_matrix(actual, predicted)\n",
    "\n",
    "\n",
    "\n",
    "cm_display = metrics.ConfusionMatrixDisplay(confusion_matrix = confusion_matrix, display_labels = [\"Negative\", \"Positive\"])\n",
    "\n",
    "cm_display.plot()\n",
    "# cm_display.setTitle(\"dfkjsdhfkj\")\n",
    "plt.title(label=\"Sentiword Analysis Result\",\n",
    "          fontsize=20,\n",
    "          color=\"green\")\n",
    "plt.show()"
   ]
  },
  {
   "cell_type": "code",
   "execution_count": 7,
   "id": "3ef68909",
   "metadata": {},
   "outputs": [
    {
     "name": "stdout",
     "output_type": "stream",
     "text": [
      "              precision    recall  f1-score   support\n",
      "\n",
      "    Negative       0.73      0.44      0.55     25000\n",
      "    Positive       0.60      0.83      0.70     25000\n",
      "\n",
      "    accuracy                           0.64     50000\n",
      "   macro avg       0.66      0.64      0.62     50000\n",
      "weighted avg       0.66      0.64      0.62     50000\n",
      "\n"
     ]
    }
   ],
   "source": [
    "## SentiwordNET Analysis Result\n",
    "\n",
    "\n",
    "from sklearn.metrics import classification_report\n",
    " \n",
    "print(classification_report(actual, predicted))"
   ]
  },
  {
   "cell_type": "markdown",
   "id": "191a9d1f",
   "metadata": {},
   "source": [
    "# Building a machine learning model\n",
    "\n"
   ]
  },
  {
   "cell_type": "markdown",
   "id": "1fadde69",
   "metadata": {},
   "source": [
    "Bag-of-words"
   ]
  },
  {
   "cell_type": "code",
   "execution_count": 6,
   "id": "043423a9",
   "metadata": {},
   "outputs": [],
   "source": [
    "data['reviews_text_new'] = data['After_lemmatization'].copy()"
   ]
  },
  {
   "cell_type": "code",
   "execution_count": 7,
   "id": "853eedc5",
   "metadata": {},
   "outputs": [
    {
     "name": "stderr",
     "output_type": "stream",
     "text": [
      "/Users/pratikdomadiya/opt/anaconda3/lib/python3.9/site-packages/sklearn/utils/deprecation.py:87: FutureWarning:\n",
      "\n",
      "Function get_feature_names is deprecated; get_feature_names is deprecated in 1.0 and will be removed in 1.2. Please use get_feature_names_out instead.\n",
      "\n"
     ]
    },
    {
     "data": {
      "text/html": [
       "<div>\n",
       "<style scoped>\n",
       "    .dataframe tbody tr th:only-of-type {\n",
       "        vertical-align: middle;\n",
       "    }\n",
       "\n",
       "    .dataframe tbody tr th {\n",
       "        vertical-align: top;\n",
       "    }\n",
       "\n",
       "    .dataframe thead th {\n",
       "        text-align: right;\n",
       "    }\n",
       "</style>\n",
       "<table border=\"1\" class=\"dataframe\">\n",
       "  <thead>\n",
       "    <tr style=\"text-align: right;\">\n",
       "      <th></th>\n",
       "      <th>000admit</th>\n",
       "      <th>000canreally</th>\n",
       "      <th>000cansee</th>\n",
       "      <th>000ccan</th>\n",
       "      <th>000crack</th>\n",
       "      <th>000d</th>\n",
       "      <th>000dm</th>\n",
       "      <th>000doubt</th>\n",
       "      <th>000guess</th>\n",
       "      <th>000have</th>\n",
       "      <th>...</th>\n",
       "      <th>œspace</th>\n",
       "      <th>œstalingradâ</th>\n",
       "      <th>œstalingradâcannot</th>\n",
       "      <th>œsupreme</th>\n",
       "      <th>œthe</th>\n",
       "      <th>œtranssiberianâ</th>\n",
       "      <th>œwhoâon</th>\n",
       "      <th>œxâ</th>\n",
       "      <th>œyouâ</th>\n",
       "      <th>œzeit</th>\n",
       "    </tr>\n",
       "  </thead>\n",
       "  <tbody>\n",
       "    <tr>\n",
       "      <th>0</th>\n",
       "      <td>0</td>\n",
       "      <td>0</td>\n",
       "      <td>0</td>\n",
       "      <td>0</td>\n",
       "      <td>0</td>\n",
       "      <td>0</td>\n",
       "      <td>0</td>\n",
       "      <td>0</td>\n",
       "      <td>0</td>\n",
       "      <td>0</td>\n",
       "      <td>...</td>\n",
       "      <td>0</td>\n",
       "      <td>0</td>\n",
       "      <td>0</td>\n",
       "      <td>0</td>\n",
       "      <td>0</td>\n",
       "      <td>0</td>\n",
       "      <td>0</td>\n",
       "      <td>0</td>\n",
       "      <td>0</td>\n",
       "      <td>0</td>\n",
       "    </tr>\n",
       "    <tr>\n",
       "      <th>1</th>\n",
       "      <td>0</td>\n",
       "      <td>0</td>\n",
       "      <td>0</td>\n",
       "      <td>0</td>\n",
       "      <td>0</td>\n",
       "      <td>0</td>\n",
       "      <td>0</td>\n",
       "      <td>0</td>\n",
       "      <td>0</td>\n",
       "      <td>0</td>\n",
       "      <td>...</td>\n",
       "      <td>0</td>\n",
       "      <td>0</td>\n",
       "      <td>0</td>\n",
       "      <td>0</td>\n",
       "      <td>0</td>\n",
       "      <td>0</td>\n",
       "      <td>0</td>\n",
       "      <td>0</td>\n",
       "      <td>0</td>\n",
       "      <td>0</td>\n",
       "    </tr>\n",
       "    <tr>\n",
       "      <th>2</th>\n",
       "      <td>0</td>\n",
       "      <td>0</td>\n",
       "      <td>0</td>\n",
       "      <td>0</td>\n",
       "      <td>0</td>\n",
       "      <td>0</td>\n",
       "      <td>0</td>\n",
       "      <td>0</td>\n",
       "      <td>0</td>\n",
       "      <td>0</td>\n",
       "      <td>...</td>\n",
       "      <td>0</td>\n",
       "      <td>0</td>\n",
       "      <td>0</td>\n",
       "      <td>0</td>\n",
       "      <td>0</td>\n",
       "      <td>0</td>\n",
       "      <td>0</td>\n",
       "      <td>0</td>\n",
       "      <td>0</td>\n",
       "      <td>0</td>\n",
       "    </tr>\n",
       "  </tbody>\n",
       "</table>\n",
       "<p>3 rows × 361256 columns</p>\n",
       "</div>"
      ],
      "text/plain": [
       "   000admit  000canreally  000cansee  000ccan  000crack  000d  000dm  \\\n",
       "0         0             0          0        0         0     0      0   \n",
       "1         0             0          0        0         0     0      0   \n",
       "2         0             0          0        0         0     0      0   \n",
       "\n",
       "   000doubt  000guess  000have  ...  œspace  œstalingradâ  œstalingradâcannot  \\\n",
       "0         0         0        0  ...       0             0                   0   \n",
       "1         0         0        0  ...       0             0                   0   \n",
       "2         0         0        0  ...       0             0                   0   \n",
       "\n",
       "   œsupreme  œthe  œtranssiberianâ  œwhoâon  œxâ  œyouâ  œzeit  \n",
       "0         0     0                0        0    0      0      0  \n",
       "1         0     0                0        0    0      0      0  \n",
       "2         0     0                0        0    0      0      0  \n",
       "\n",
       "[3 rows x 361256 columns]"
      ]
     },
     "execution_count": 7,
     "metadata": {},
     "output_type": "execute_result"
    }
   ],
   "source": [
    "# The following code creates a word-document matrix.\n",
    "\n",
    "vec = CountVectorizer()\n",
    "X = vec.fit_transform(data['After_lemmatization'].values.astype('U'))\n",
    "df = pd.DataFrame(X.toarray(), columns = vec.get_feature_names())\n",
    "df.head(3)"
   ]
  },
  {
   "cell_type": "code",
   "execution_count": 8,
   "id": "37891b48",
   "metadata": {},
   "outputs": [
    {
     "name": "stdout",
     "output_type": "stream",
     "text": [
      "(50000, 361256)\n"
     ]
    },
    {
     "data": {
      "text/plain": [
       "Index(['Unnamed: 0', 'review', 'sentiment', 'Review_without_stopwords',\n",
       "       'After_lemmatization', 'pos_tags', 'senti_score', 'Overall Sentiment',\n",
       "       'reviews_text_new'],\n",
       "      dtype='object')"
      ]
     },
     "execution_count": 8,
     "metadata": {},
     "output_type": "execute_result"
    }
   ],
   "source": [
    "print(df.shape)\n",
    "data.columns\n"
   ]
  },
  {
   "cell_type": "code",
   "execution_count": 9,
   "id": "c6dec46b",
   "metadata": {},
   "outputs": [],
   "source": [
    "data['reviews_text_new'].isnull().sum()\n",
    "\n",
    "data[data['reviews_text_new'].isnull()]\n",
    "data.dropna(inplace=True)"
   ]
  },
  {
   "cell_type": "code",
   "execution_count": 10,
   "id": "a67be3e8",
   "metadata": {},
   "outputs": [
    {
     "data": {
      "text/html": [
       "<div>\n",
       "<style scoped>\n",
       "    .dataframe tbody tr th:only-of-type {\n",
       "        vertical-align: middle;\n",
       "    }\n",
       "\n",
       "    .dataframe tbody tr th {\n",
       "        vertical-align: top;\n",
       "    }\n",
       "\n",
       "    .dataframe thead th {\n",
       "        text-align: right;\n",
       "    }\n",
       "</style>\n",
       "<table border=\"1\" class=\"dataframe\">\n",
       "  <thead>\n",
       "    <tr style=\"text-align: right;\">\n",
       "      <th></th>\n",
       "      <th>Unnamed: 0</th>\n",
       "      <th>review</th>\n",
       "      <th>sentiment</th>\n",
       "      <th>Review_without_stopwords</th>\n",
       "      <th>After_lemmatization</th>\n",
       "      <th>pos_tags</th>\n",
       "      <th>senti_score</th>\n",
       "      <th>Overall Sentiment</th>\n",
       "      <th>reviews_text_new</th>\n",
       "    </tr>\n",
       "  </thead>\n",
       "  <tbody>\n",
       "  </tbody>\n",
       "</table>\n",
       "</div>"
      ],
      "text/plain": [
       "Empty DataFrame\n",
       "Columns: [Unnamed: 0, review, sentiment, Review_without_stopwords, After_lemmatization, pos_tags, senti_score, Overall Sentiment, reviews_text_new]\n",
       "Index: []"
      ]
     },
     "execution_count": 10,
     "metadata": {},
     "output_type": "execute_result"
    }
   ],
   "source": [
    "data[data['reviews_text_new'].isnull()]"
   ]
  },
  {
   "cell_type": "code",
   "execution_count": 13,
   "id": "90e2aa93",
   "metadata": {
    "scrolled": true
   },
   "outputs": [
    {
     "name": "stderr",
     "output_type": "stream",
     "text": [
      "/Users/pratikdomadiya/opt/anaconda3/lib/python3.9/site-packages/sklearn/utils/deprecation.py:87: FutureWarning:\n",
      "\n",
      "Function get_feature_names is deprecated; get_feature_names is deprecated in 1.0 and will be removed in 1.2. Please use get_feature_names_out instead.\n",
      "\n"
     ]
    },
    {
     "name": "stdout",
     "output_type": "stream",
     "text": [
      "  (0, 6846)\t1\n",
      "  (0, 10821)\t1\n",
      "  (0, 11153)\t1\n",
      "  (0, 22415)\t1\n",
      "  (0, 24623)\t1\n",
      "  (0, 25410)\t1\n",
      "  (0, 30381)\t1\n",
      "  (0, 32441)\t1\n",
      "  (0, 33452)\t2\n",
      "  (0, 38414)\t1\n",
      "  (0, 46113)\t1\n",
      "  (0, 53376)\t1\n",
      "  (0, 53544)\t1\n",
      "  (0, 59175)\t1\n",
      "  (0, 63872)\t1\n",
      "  (0, 65894)\t1\n",
      "  (0, 67719)\t1\n",
      "  (0, 68619)\t2\n",
      "  (0, 68980)\t1\n",
      "  (0, 69011)\t1\n",
      "  (0, 71833)\t1\n",
      "  (0, 79411)\t1\n",
      "  (0, 81749)\t1\n",
      "  (0, 82915)\t1\n",
      "  (0, 83014)\t1\n",
      "  :\t:\n",
      "  (49997, 188412)\t1\n",
      "  (49997, 192870)\t1\n",
      "  (49997, 208550)\t1\n",
      "  (49997, 216956)\t9\n",
      "  (49997, 221792)\t1\n",
      "  (49997, 223742)\t1\n",
      "  (49997, 235276)\t1\n",
      "  (49997, 251355)\t1\n",
      "  (49997, 265598)\t1\n",
      "  (49997, 273910)\t1\n",
      "  (49997, 274698)\t1\n",
      "  (49997, 277314)\t2\n",
      "  (49997, 293074)\t1\n",
      "  (49997, 294328)\t1\n",
      "  (49997, 323320)\t1\n",
      "  (49997, 324140)\t1\n",
      "  (49997, 327484)\t1\n",
      "  (49997, 339527)\t1\n",
      "  (49997, 339819)\t1\n",
      "  (49997, 340603)\t1\n",
      "  (49997, 341881)\t1\n",
      "  (49997, 356057)\t1\n",
      "  (49997, 356108)\t1\n",
      "  (49997, 356206)\t1\n",
      "  (49997, 359263)\t1\n"
     ]
    }
   ],
   "source": [
    "vect = CountVectorizer()\n",
    "vect.fit(data['reviews_text_new'])\n",
    "vect.get_feature_names()\n",
    "# transform training data into a 'document-term matrix'\n",
    "simple_train_dtm = vect.transform(data['reviews_text_new'].values.astype('U'))\n",
    "# sample = vect.transform(df['Numbers'].values.astype('U'))\n",
    "print(simple_train_dtm)\n",
    "# print(sample)"
   ]
  },
  {
   "cell_type": "markdown",
   "id": "d7593e3a",
   "metadata": {},
   "source": [
    "# Divide into training and test sets"
   ]
  },
  {
   "cell_type": "code",
   "execution_count": 11,
   "id": "f94a6e42",
   "metadata": {},
   "outputs": [],
   "source": [
    "from sklearn.model_selection import train_test_split\n",
    "X_train, x_test, y_train, y_test = train_test_split(data['reviews_text_new'], # Features\n",
    "                                                                    data['sentiment'], # Target variable\n",
    "                                                                    test_size = 0.2, # 20% test size\n",
    "                                                                    random_state = 0) # random\n",
    "\n"
   ]
  },
  {
   "cell_type": "markdown",
   "id": "490467a1",
   "metadata": {},
   "source": [
    "# Applying logistic regression"
   ]
  },
  {
   "cell_type": "markdown",
   "id": "4ea5c0c1",
   "metadata": {},
   "source": [
    "# TF-IDF model"
   ]
  },
  {
   "cell_type": "code",
   "execution_count": 16,
   "id": "e7214456",
   "metadata": {},
   "outputs": [
    {
     "name": "stdout",
     "output_type": "stream",
     "text": [
      "              precision    recall  f1-score   support\n",
      "\n",
      "           0       0.89      0.86      0.88      5056\n",
      "           1       0.86      0.89      0.88      4944\n",
      "\n",
      "    accuracy                           0.88     10000\n",
      "   macro avg       0.88      0.88      0.88     10000\n",
      "weighted avg       0.88      0.88      0.88     10000\n",
      "\n"
     ]
    }
   ],
   "source": [
    "# tfidf model\n",
    "from sklearn.feature_extraction.text import TfidfVectorizer\n",
    "from sklearn.pipeline import Pipeline\n",
    "import joblib\n",
    "from sklearn.linear_model import LogisticRegression\n",
    "\n",
    "\n",
    "noise_words = []\n",
    "tfidf_vectorizer = TfidfVectorizer(tokenizer= word_tokenize, # type of tokenization\n",
    "                               stop_words=noise_words, # List of stopwords\n",
    "                               ngram_range=(1,3))\n",
    "lr = LogisticRegression()\n",
    "tfidf_lr_pipe = Pipeline([('tfidf', tfidf_vectorizer), ('lr', lr)])\n",
    "\n",
    "# Internally your X_train will be automatically converted to tfidf \n",
    "# and that will be passed to lr\n",
    "tfidf_lr_pipe.fit(X_train, y_train)\n",
    "\n",
    "# Similarly here only transform() will be called internally for tfidfvectorizer\n",
    "# And that data will be passed to lr.predict()\n",
    "y_preds = tfidf_lr_pipe.predict(x_test)\n",
    "\n",
    "# Now you can save this pipeline alone (which will save all its internal parts)\n",
    "filename = './finalized_model_lr_tfidf.sav'\n",
    "joblib.dump(tfidf_lr_pipe, filename)\n",
    "\n",
    "from sklearn.metrics import classification_report\n",
    "print(classification_report(y_test,y_preds))"
   ]
  },
  {
   "cell_type": "code",
   "execution_count": 17,
   "id": "d7493ea9",
   "metadata": {},
   "outputs": [
    {
     "name": "stdout",
     "output_type": "stream",
     "text": [
      "[1]\n"
     ]
    }
   ],
   "source": [
    "#sample prediction tfidf\n",
    "\n",
    "#sample must be in sample = ['sample'] format means list of testing samples\n",
    "data_ = ['one reviewer mentioned watching episode hooked right exactly happened first thing struck brutality unflinching scene violence set right word trust notshow faint hearted timid show pull punch regard drug sex violence hardcore classic use word called nickname given oswald maximum security state penitentary focus mainly emerald city experimental section prison cell glass front face inwards privacy high agenda city home many aryan muslim gangsta latino christian italian irish scuffle death stare dodgy dealing shady agreement never far away brwould say main appeal show due fact show wouldndare forget pretty picture painted mainstream audience forget charm forget romance doesnmess around first episodeever saw struck nasty surrealcouldnsaywas ready aswatched moredevelopedtaste got accustomed high level graphic violence violence injustice crooked guard sold fornickel inmate kill order get away well mannered middle class inmate turned prison bitch due lack street skill prison experience watching may become comfortable uncomfortable viewing thats get touch darker side ']\n",
    "\n",
    "loaded_pipe = joblib.load(\"./finalized_model.sav\")\n",
    "result = loaded_pipe.predict(data_)\n",
    "\n",
    "print(result)"
   ]
  },
  {
   "cell_type": "markdown",
   "id": "bc59fce5",
   "metadata": {},
   "source": [
    "# count_vectorizer model\n"
   ]
  },
  {
   "cell_type": "code",
   "execution_count": 18,
   "id": "d5b891be",
   "metadata": {},
   "outputs": [
    {
     "name": "stderr",
     "output_type": "stream",
     "text": [
      "/Users/pratikdomadiya/opt/anaconda3/lib/python3.9/site-packages/sklearn/linear_model/_logistic.py:444: ConvergenceWarning:\n",
      "\n",
      "lbfgs failed to converge (status=1):\n",
      "STOP: TOTAL NO. of ITERATIONS REACHED LIMIT.\n",
      "\n",
      "Increase the number of iterations (max_iter) or scale the data as shown in:\n",
      "    https://scikit-learn.org/stable/modules/preprocessing.html\n",
      "Please also refer to the documentation for alternative solver options:\n",
      "    https://scikit-learn.org/stable/modules/linear_model.html#logistic-regression\n",
      "\n"
     ]
    },
    {
     "name": "stdout",
     "output_type": "stream",
     "text": [
      "              precision    recall  f1-score   support\n",
      "\n",
      "           0       0.90      0.88      0.89      5056\n",
      "           1       0.88      0.90      0.89      4944\n",
      "\n",
      "    accuracy                           0.89     10000\n",
      "   macro avg       0.89      0.89      0.89     10000\n",
      "weighted avg       0.89      0.89      0.89     10000\n",
      "\n"
     ]
    }
   ],
   "source": [
    "# counter model\n",
    "from sklearn.pipeline import Pipeline\n",
    "import joblib\n",
    "\n",
    "### Creating a python object of the class CountVectorizer\n",
    "from sklearn.feature_extraction.text import CountVectorizer\n",
    "\n",
    "count_vectorizer = CountVectorizer(tokenizer= word_tokenize, # type of tokenization\n",
    "                             ngram_range=(1,3)) # number of n-grams\n",
    "\n",
    "lr = LogisticRegression()\n",
    "count_vect_lr_pipe = Pipeline([('count_vectorizer', count_vectorizer), ('lr', lr)])\n",
    "\n",
    "# Internally your X_train will be automatically converted to tfidf \n",
    "# and that will be passed to lr\n",
    "count_vect_lr_pipe.fit(X_train, y_train)\n",
    "\n",
    "# Similarly here only transform() will be called internally for tfidfvectorizer\n",
    "# And that data will be passed to lr.predict()\n",
    "y_preds = count_vect_lr_pipe.predict(x_test)\n",
    "\n",
    "# Now you can save this pipeline alone (which will save all its internal parts)\n",
    "filename = './finalized_model_lr_count_vectorizer.sav'\n",
    "joblib.dump(count_vect_lr_pipe, filename)\n",
    "\n",
    "from sklearn.metrics import classification_report\n",
    "print(classification_report(y_test,y_preds))\n",
    "\n"
   ]
  },
  {
   "cell_type": "code",
   "execution_count": 53,
   "id": "5057f68e",
   "metadata": {
    "collapsed": true
   },
   "outputs": [
    {
     "name": "stdout",
     "output_type": "stream",
     "text": [
      "              precision    recall  f1-score   support\n",
      "\n",
      "           0       1.00      1.00      1.00     19942\n",
      "           1       1.00      1.00      1.00     20056\n",
      "\n",
      "    accuracy                           1.00     39998\n",
      "   macro avg       1.00      1.00      1.00     39998\n",
      "weighted avg       1.00      1.00      1.00     39998\n",
      "\n"
     ]
    }
   ],
   "source": [
    "# train data accuracy\n",
    "from sklearn.metrics import classification_report\n",
    "x_preds = count_vect_lr_pipe.predict(X_train)\n",
    "print(classification_report(y_train,x_preds))"
   ]
  },
  {
   "cell_type": "code",
   "execution_count": 50,
   "id": "6d7bd27f",
   "metadata": {},
   "outputs": [
    {
     "name": "stdout",
     "output_type": "stream",
     "text": [
      "[1]\n"
     ]
    }
   ],
   "source": [
    "#sample prediction \n",
    "\n",
    "#sample must be in sample = ['sample'] format means list of testing samples\n",
    "data_ = ['one reviewer mentioned watching episode hooked right exactly happened first thing struck brutality unflinching scene violence set right word trust notshow faint hearted timid show pull punch regard drug sex violence hardcore classic use word called nickname given oswald maximum security state penitentary focus mainly emerald city experimental section prison cell glass front face inwards privacy high agenda city home many aryan muslim gangsta latino christian italian irish scuffle death stare dodgy dealing shady agreement never far away brwould say main appeal show due fact show wouldndare forget pretty picture painted mainstream audience forget charm forget romance doesnmess around first episodeever saw struck nasty surrealcouldnsaywas ready aswatched moredevelopedtaste got accustomed high level graphic violence violence injustice crooked guard sold fornickel inmate kill order get away well mannered middle class inmate turned prison bitch due lack street skill prison experience watching may become comfortable uncomfortable viewing thats get touch darker side ']\n",
    "\n",
    "loaded_pipe = joblib.load(\"./finalized_model_lr_count_vectorizer.sav\")\n",
    "result = loaded_pipe.predict(data_)\n",
    "\n",
    "print(result)"
   ]
  },
  {
   "cell_type": "markdown",
   "id": "b679360f",
   "metadata": {},
   "source": [
    "# Applying Decision Tree Classifier\n",
    "## TF-IDF model"
   ]
  },
  {
   "cell_type": "code",
   "execution_count": 21,
   "id": "fdc7a212",
   "metadata": {},
   "outputs": [
    {
     "name": "stdout",
     "output_type": "stream",
     "text": [
      "              precision    recall  f1-score   support\n",
      "\n",
      "           0       0.67      0.69      0.68      5056\n",
      "           1       0.67      0.66      0.67      4944\n",
      "\n",
      "    accuracy                           0.67     10000\n",
      "   macro avg       0.67      0.67      0.67     10000\n",
      "weighted avg       0.67      0.67      0.67     10000\n",
      "\n"
     ]
    }
   ],
   "source": [
    "# tfidf model\n",
    "from sklearn.feature_extraction.text import TfidfVectorizer\n",
    "from sklearn.pipeline import Pipeline\n",
    "import joblib\n",
    "from sklearn.linear_model import LogisticRegression\n",
    "\n",
    "\n",
    "noise_words = []\n",
    "tfidf_vectorizer = TfidfVectorizer(tokenizer= word_tokenize, # type of tokenization\n",
    "                               stop_words=noise_words, # List of stopwords\n",
    "                               ngram_range=(1,3))\n",
    "dt = DecisionTreeClassifier()\n",
    "tfidf_dt_pipe = Pipeline([('tfidf', tfidf_vectorizer), (\"Decision Tree\",dt)])\n",
    "\n",
    "# Internally your X_train will be automatically converted to tfidf \n",
    "# and that will be passed to lr\n",
    "tfidf_dt_pipe.fit(X_train, y_train)\n",
    "\n",
    "# Similarly here only transform() will be called internally for tfidfvectorizer\n",
    "# And that data will be passed to lr.predict()\n",
    "y_preds = tfidf_dt_pipe.predict(x_test)\n",
    "\n",
    "# Now you can save this pipeline alone (which will save all its internal parts)\n",
    "filename = './finalized_model_dt_tfidf.sav'\n",
    "joblib.dump(tfidf_dt_pipe, filename)\n",
    "\n",
    "from sklearn.metrics import classification_report\n",
    "print(classification_report(y_test,y_preds))"
   ]
  },
  {
   "cell_type": "markdown",
   "id": "19b8d872",
   "metadata": {},
   "source": [
    "# count_vectorizer model"
   ]
  },
  {
   "cell_type": "code",
   "execution_count": 22,
   "id": "28eb5bc2",
   "metadata": {},
   "outputs": [
    {
     "name": "stdout",
     "output_type": "stream",
     "text": [
      "              precision    recall  f1-score   support\n",
      "\n",
      "           0       0.73      0.74      0.74      5056\n",
      "           1       0.73      0.73      0.73      4944\n",
      "\n",
      "    accuracy                           0.73     10000\n",
      "   macro avg       0.73      0.73      0.73     10000\n",
      "weighted avg       0.73      0.73      0.73     10000\n",
      "\n"
     ]
    }
   ],
   "source": [
    "# ), (\"MultinomialNB\",MultinomialNB())\n",
    "\n",
    "# counter model\n",
    "from sklearn.pipeline import Pipeline\n",
    "import joblib\n",
    "\n",
    "### Creating a python object of the class CountVectorizer\n",
    "from sklearn.feature_extraction.text import CountVectorizer\n",
    "\n",
    "count_vectorizer = CountVectorizer(tokenizer= word_tokenize, # type of tokenization\n",
    "                             ngram_range=(1,3)) # number of n-grams\n",
    "\n",
    "dt = DecisionTreeClassifier()\n",
    "count_vect_dt_pipe = Pipeline([('count_vectorizer', count_vectorizer), (\"Decision Tree\",dt)])\n",
    "\n",
    "# Internally your X_train will be automatically converted to tfidf \n",
    "# and that will be passed to lr\n",
    "count_vect_dt_pipe.fit(X_train, y_train)\n",
    "\n",
    "# Similarly here only transform() will be called internally for tfidfvectorizer\n",
    "# And that data will be passed to lr.predict()\n",
    "y_preds = count_vect_dt_pipe.predict(x_test)\n",
    "\n",
    "# Now you can save this pipeline alone (which will save all its internal parts)\n",
    "filename = './finalized_model_dt_count_vectorizer.sav'\n",
    "joblib.dump(count_vect_dt_pipe, filename)\n",
    "\n",
    "from sklearn.metrics import classification_report\n",
    "print(classification_report(y_test,y_preds))\n"
   ]
  },
  {
   "cell_type": "markdown",
   "id": "ffe0525c",
   "metadata": {},
   "source": [
    "# Applying Multinomial Naive Bayes\n",
    "## TF-IDF model"
   ]
  },
  {
   "cell_type": "code",
   "execution_count": 12,
   "id": "1f96c787",
   "metadata": {},
   "outputs": [
    {
     "name": "stdout",
     "output_type": "stream",
     "text": [
      "              precision    recall  f1-score   support\n",
      "\n",
      "           0       0.90      0.87      0.89      5056\n",
      "           1       0.87      0.90      0.89      4944\n",
      "\n",
      "    accuracy                           0.89     10000\n",
      "   macro avg       0.89      0.89      0.89     10000\n",
      "weighted avg       0.89      0.89      0.89     10000\n",
      "\n"
     ]
    }
   ],
   "source": [
    "# tfidf model\n",
    "from sklearn.feature_extraction.text import TfidfVectorizer\n",
    "from sklearn.pipeline import Pipeline\n",
    "import joblib\n",
    "from sklearn.linear_model import LogisticRegression\n",
    "\n",
    "\n",
    "noise_words = []\n",
    "tfidf_vectorizer = TfidfVectorizer(tokenizer= word_tokenize, # type of tokenization\n",
    "                               stop_words=noise_words, # List of stopwords\n",
    "                               ngram_range=(1,3))\n",
    "mnb = MultinomialNB()\n",
    "tfidf_mnb_pipe = Pipeline([('tfidf', tfidf_vectorizer), (\"MultinomialNB\",mnb)])\n",
    "\n",
    "# Internally your X_train will be automatically converted to tfidf \n",
    "# and that will be passed to lr\n",
    "tfidf_mnb_pipe.fit(X_train, y_train)\n",
    "\n",
    "# Similarly here only transform() will be called internally for tfidfvectorizer\n",
    "# And that data will be passed to lr.predict()\n",
    "y_preds = tfidf_mnb_pipe.predict(x_test)\n",
    "\n",
    "# Now you can save this pipeline alone (which will save all its internal parts)\n",
    "filename = './finalized_model_mnb_tfidf.sav'\n",
    "joblib.dump(tfidf_mnb_pipe, filename)\n",
    "\n",
    "from sklearn.metrics import classification_report\n",
    "print(classification_report(y_test,y_preds))"
   ]
  },
  {
   "cell_type": "markdown",
   "id": "ad66d0a1",
   "metadata": {},
   "source": [
    "# count_vectorizer model"
   ]
  },
  {
   "cell_type": "code",
   "execution_count": 13,
   "id": "fbfe1c5c",
   "metadata": {},
   "outputs": [
    {
     "name": "stdout",
     "output_type": "stream",
     "text": [
      "              precision    recall  f1-score   support\n",
      "\n",
      "           0       0.89      0.88      0.89      5056\n",
      "           1       0.88      0.89      0.88      4944\n",
      "\n",
      "    accuracy                           0.89     10000\n",
      "   macro avg       0.89      0.89      0.89     10000\n",
      "weighted avg       0.89      0.89      0.89     10000\n",
      "\n"
     ]
    }
   ],
   "source": [
    "# ), (\"MultinomialNB\",MultinomialNB())\n",
    "\n",
    "# counter model\n",
    "from sklearn.pipeline import Pipeline\n",
    "import joblib\n",
    "\n",
    "### Creating a python object of the class CountVectorizer\n",
    "from sklearn.feature_extraction.text import CountVectorizer\n",
    "\n",
    "count_vectorizer = CountVectorizer(tokenizer= word_tokenize, # type of tokenization\n",
    "                             ngram_range=(1,3)) # number of n-grams\n",
    "\n",
    "mnb = MultinomialNB()\n",
    "count_vect_mnb_pipe = Pipeline([('count_vectorizer', count_vectorizer), (\"MultinomialNB\",mnb)])\n",
    "\n",
    "# Internally your X_train will be automatically converted to tfidf \n",
    "# and that will be passed to lr\n",
    "count_vect_mnb_pipe.fit(X_train, y_train)\n",
    "\n",
    "# Similarly here only transform() will be called internally for tfidfvectorizer\n",
    "# And that data will be passed to lr.predict()\n",
    "y_preds = count_vect_mnb_pipe.predict(x_test)\n",
    "\n",
    "# Now you can save this pipeline alone (which will save all its internal parts)\n",
    "filename = './finalized_model_mnb_count_vectorizer.sav'\n",
    "joblib.dump(count_vect_mnb_pipe, filename)\n",
    "\n",
    "from sklearn.metrics import classification_report\n",
    "print(classification_report(y_test,y_preds))\n"
   ]
  },
  {
   "cell_type": "markdown",
   "id": "ce49cac6",
   "metadata": {},
   "source": [
    "# Applying Linear SVC\n",
    "## TF-IDF model"
   ]
  },
  {
   "cell_type": "code",
   "execution_count": 17,
   "id": "c35ea6d3",
   "metadata": {},
   "outputs": [
    {
     "name": "stdout",
     "output_type": "stream",
     "text": [
      "              precision    recall  f1-score   support\n",
      "\n",
      "           0       0.91      0.89      0.90      5056\n",
      "           1       0.89      0.91      0.90      4944\n",
      "\n",
      "    accuracy                           0.90     10000\n",
      "   macro avg       0.90      0.90      0.90     10000\n",
      "weighted avg       0.90      0.90      0.90     10000\n",
      "\n"
     ]
    }
   ],
   "source": [
    "# tfidf model\n",
    "from sklearn.feature_extraction.text import TfidfVectorizer\n",
    "from sklearn.pipeline import Pipeline\n",
    "import joblib\n",
    "from sklearn.linear_model import LogisticRegression\n",
    "\n",
    "\n",
    "noise_words = []\n",
    "tfidf_vectorizer = TfidfVectorizer(tokenizer= word_tokenize, # type of tokenization\n",
    "                               stop_words=noise_words, # List of stopwords\n",
    "                               ngram_range=(1,3))\n",
    "# Linear svm\n",
    "lsvm = LinearSVC()\n",
    "tfidf_lsvm_pipe = Pipeline([('tfidf', tfidf_vectorizer), (\"LinearSVC\",lsvm)])\n",
    "\n",
    "# Internally your X_train will be automatically converted to tfidf \n",
    "# and that will be passed to lr\n",
    "tfidf_lsvm_pipe.fit(X_train, y_train)\n",
    "\n",
    "# Similarly here only transform() will be called internally for tfidfvectorizer\n",
    "# And that data will be passed to lr.predict()\n",
    "y_preds = tfidf_lsvm_pipe.predict(x_test)\n",
    "\n",
    "# Now you can save this pipeline alone (which will save all its internal parts)\n",
    "filename = './finalized_model_lsvm_tfidf.sav'\n",
    "joblib.dump(tfidf_lsvm_pipe, filename)\n",
    "\n",
    "from sklearn.metrics import classification_report\n",
    "print(classification_report(y_test,y_preds))"
   ]
  },
  {
   "cell_type": "markdown",
   "id": "7e7d1e0c",
   "metadata": {},
   "source": [
    "# count_vectorizer model"
   ]
  },
  {
   "cell_type": "code",
   "execution_count": 18,
   "id": "52105dac",
   "metadata": {},
   "outputs": [
    {
     "name": "stderr",
     "output_type": "stream",
     "text": [
      "/Users/pratikdomadiya/opt/anaconda3/lib/python3.9/site-packages/sklearn/svm/_base.py:1225: ConvergenceWarning:\n",
      "\n",
      "Liblinear failed to converge, increase the number of iterations.\n",
      "\n"
     ]
    },
    {
     "name": "stdout",
     "output_type": "stream",
     "text": [
      "              precision    recall  f1-score   support\n",
      "\n",
      "           0       0.90      0.88      0.89      5056\n",
      "           1       0.88      0.90      0.89      4944\n",
      "\n",
      "    accuracy                           0.89     10000\n",
      "   macro avg       0.89      0.89      0.89     10000\n",
      "weighted avg       0.89      0.89      0.89     10000\n",
      "\n"
     ]
    }
   ],
   "source": [
    "# counter model\n",
    "from sklearn.pipeline import Pipeline\n",
    "import joblib\n",
    "\n",
    "### Creating a python object of the class CountVectorizer\n",
    "from sklearn.feature_extraction.text import CountVectorizer\n",
    "\n",
    "count_vectorizer = CountVectorizer(tokenizer= word_tokenize, # type of tokenization\n",
    "                             ngram_range=(1,3)) # number of n-grams\n",
    "\n",
    "# Linear svm\n",
    "lsvm = LinearSVC()\n",
    "count_vect_lsvm_pipe = Pipeline([('count_vectorizer', count_vectorizer), (\"LinearSVC\",lsvm)])\n",
    "\n",
    "# Internally your X_train will be automatically converted to tfidf \n",
    "# and that will be passed to lr\n",
    "count_vect_lsvm_pipe.fit(X_train, y_train)\n",
    "\n",
    "# Similarly here only transform() will be called internally for tfidfvectorizer\n",
    "# And that data will be passed to lr.predict()\n",
    "y_preds = count_vect_lsvm_pipe.predict(x_test)\n",
    "\n",
    "# Now you can save this pipeline alone (which will save all its internal parts)\n",
    "filename = './finalized_model_lsvm_count_vectorizer.sav'\n",
    "joblib.dump(count_vect_lsvm_pipe, filename)\n",
    "\n",
    "from sklearn.metrics import classification_report\n",
    "print(classification_report(y_test,y_preds))\n"
   ]
  },
  {
   "cell_type": "code",
   "execution_count": null,
   "id": "24d776a6",
   "metadata": {},
   "outputs": [],
   "source": []
  }
 ],
 "metadata": {
  "kernelspec": {
   "display_name": "Python 3 (ipykernel)",
   "language": "python",
   "name": "python3"
  },
  "language_info": {
   "codemirror_mode": {
    "name": "ipython",
    "version": 3
   },
   "file_extension": ".py",
   "mimetype": "text/x-python",
   "name": "python",
   "nbconvert_exporter": "python",
   "pygments_lexer": "ipython3",
   "version": "3.9.13"
  }
 },
 "nbformat": 4,
 "nbformat_minor": 5
}
