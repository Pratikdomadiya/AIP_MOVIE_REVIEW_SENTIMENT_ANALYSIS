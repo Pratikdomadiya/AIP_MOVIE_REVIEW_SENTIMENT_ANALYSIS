{
 "cells": [
  {
   "cell_type": "code",
   "execution_count": 22,
   "id": "0ce52ff9",
   "metadata": {},
   "outputs": [
    {
     "name": "stderr",
     "output_type": "stream",
     "text": [
      "[nltk_data] Downloading package punkt to\n",
      "[nltk_data]     /Users/pratikdomadiya/nltk_data...\n",
      "[nltk_data]   Package punkt is already up-to-date!\n",
      "[nltk_data] Downloading package stopwords to\n",
      "[nltk_data]     /Users/pratikdomadiya/nltk_data...\n",
      "[nltk_data]   Package stopwords is already up-to-date!\n",
      "[nltk_data] Downloading package wordnet to\n",
      "[nltk_data]     /Users/pratikdomadiya/nltk_data...\n",
      "[nltk_data]   Package wordnet is already up-to-date!\n",
      "[nltk_data] Downloading package omw-1.4 to\n",
      "[nltk_data]     /Users/pratikdomadiya/nltk_data...\n",
      "[nltk_data]   Package omw-1.4 is already up-to-date!\n"
     ]
    },
    {
     "data": {
      "text/plain": [
       "True"
      ]
     },
     "execution_count": 22,
     "metadata": {},
     "output_type": "execute_result"
    }
   ],
   "source": [
    "import nltk\n",
    "from nltk.corpus import stopwords\n",
    "from nltk.tokenize import word_tokenize\n",
    "from nltk.stem import PorterStemmer, WordNetLemmatizer\n",
    "import string\n",
    "import re\n",
    "\n",
    "nltk.download('punkt')\n",
    "nltk.download('stopwords')\n",
    "nltk.download('wordnet')\n",
    "nltk.download('omw-1.4')"
   ]
  },
  {
   "cell_type": "code",
   "execution_count": 23,
   "id": "9adcc1e7",
   "metadata": {},
   "outputs": [
    {
     "name": "stdout",
     "output_type": "stream",
     "text": [
      "Enter a movie review: One of the other reviewers has mentioned that after watching just 1 Oz episode you'll be hooked. They are right, as this is exactly what happened with me.<br /><br />The first thing that struck me about Oz was its brutality and unflinching scenes of violence, which set in right from the word GO. Trust me, this is not a show for the faint hearted or timid. This show pulls no punches with regards to drugs, sex or violence. Its is hardcore, in the classic use of the word.<br /><br />It is called OZ as that is the nickname given to the Oswald Maximum Security State Penitentary. It focuses mainly on Emerald City, an experimental section of the prison where all the cells have glass fronts and face inwards, so privacy is not high on the agenda. Em City is home to many..Aryans, Muslims, gangstas, Latinos, Christians, Italians, Irish and more....so scuffles, death stares, dodgy dealings and shady agreements are never far away.<br /><br />I would say the main appeal of the show is due to the fact that it goes where other shows wouldn't dare. Forget pretty pictures painted for mainstream audiences, forget charm, forget romance...OZ doesn't mess around. The first episode I ever saw struck me as so nasty it was surreal, I couldn't say I was ready for it, but as I watched more, I developed a taste for Oz, and got accustomed to the high levels of graphic violence. Not just violence, but injustice (crooked guards who'll be sold out for a nickel, inmates who'll kill on order and get away with it, well mannered, middle class inmates being turned into prison bitches due to their lack of street skills or prison experience) Watching Oz, you may become comfortable with what is uncomfortable viewing....thats if you can get in touch with your darker side.\n"
     ]
    }
   ],
   "source": [
    "# Input a movie review : This movie was really amazing and I am very curious to know what will happen in the next part\n",
    "review = input(\"Enter a movie review: \")"
   ]
  },
  {
   "cell_type": "code",
   "execution_count": 47,
   "id": "906eaa83",
   "metadata": {},
   "outputs": [],
   "source": [
    "def preprocess_text(review): \n",
    "    \n",
    "    \n",
    "    # Convert review to lowercase\n",
    "    review = review.lower()\n",
    "    \n",
    "    # Code to remove the Hashtags from the text\n",
    "    review=re.sub(r'\\B#\\S+','',review)\n",
    "    # Code to remove the links from the text\n",
    "    review=re.sub(r\"http\\S+\", \"\", review)\n",
    "    # Code to remove the Special characters from the text \n",
    "    review=' '.join(re.findall(r'\\w+', review))\n",
    "    # Code to substitute the multiple spaces with single spaces\n",
    "    review=re.sub(r'\\s+', ' ', review, flags=re.I)\n",
    "    # Code to remove all the single characters in the text\n",
    "    review=re.sub(r'\\s+[a-zA-Z]\\s+', '', review)\n",
    "    # Remove the twitter handlers\n",
    "    review=re.sub('@[^\\s]+','',review)\n",
    "\n",
    "    # tokenize and remove the stopwords    \n",
    "    filtered_sentence = [] \n",
    "\n",
    "    stop_words = set(stopwords.words('english')) \n",
    "\n",
    "    word_tokens = word_tokenize(review) \n",
    "\n",
    "    filtered_sentence = [w for w in word_tokens if not w in stop_words] \n",
    "    \n",
    "    #make a sentence \n",
    "    make_sentence = ' '.join([i+' ' for i in filtered_sentence])\n",
    "    make_sentence=re.sub(r'\\s+', ' ', make_sentence, flags=re.I)\n",
    "    \n",
    "    # lemmatize the sentence\n",
    "    lemmatizer = WordNetLemmatizer()\n",
    "    example = make_sentence\n",
    "    output_sentence =[]\n",
    "    word_tokens2 = word_tokenize(example)\n",
    "    lemmatized_output = [lemmatizer.lemmatize(w) for w in word_tokens2]\n",
    "\n",
    "    # Remove characters which have length less than 2  \n",
    "    without_single_chr = [word for word in lemmatized_output if len(word) > 2]\n",
    "    # Remove numbers\n",
    "    cleaned_data_title = [word for word in without_single_chr if not word.isnumeric()]\n",
    "        \n",
    "    #make a sentences \n",
    "    make_sentence = ' '.join([i+' ' for i in cleaned_data_title])\n",
    "    make_sentence=re.sub(r'\\s+', ' ', make_sentence, flags=re.I)\n",
    "    \n",
    "#     print(\"Lemmatized words: \", make_sentence) #sentence after lemmetization\n",
    "    return make_sentence"
   ]
  },
  {
   "cell_type": "code",
   "execution_count": 48,
   "id": "eb8abe79",
   "metadata": {},
   "outputs": [
    {
     "name": "stdout",
     "output_type": "stream",
     "text": [
      "Lemmatized sentence: one reviewer mentioned watching episode hooked right exactly happened first thing struck brutality unflinching scene violence set right word trust notshow faint hearted timid show pull punch regard drug sex violence hardcore classic use word called nickname given oswald maximum security state penitentary focus mainly emerald city experimental section prison cell glass front face inwards privacy high agenda city home many aryan muslim gangsta latino christian italian irish scuffle death stare dodgy dealing shady agreement never far away brwould say main appeal show due fact show wouldndare forget pretty picture painted mainstream audience forget charm forget romance doesnmess around first episodeever saw struck nasty surrealcouldnsaywas ready aswatched moredevelopedtaste got accustomed high level graphic violence violence injustice crooked guard sold fornickel inmate kill order get away well mannered middle class inmate turned prison bitch due lack street skill prison experience watching may become comfortable uncomfortable viewing thats get touch darker side \n"
     ]
    }
   ],
   "source": [
    "# Combine the filtered, stemmed and lemmatized words into sentences\n",
    "# filtered_sentence = ' '.join(filtered_words)\n",
    "# stemmed_sentence = ' '.join(stemmed_words)\n",
    "lemmatized_sentence = preprocess_text(review)\n",
    "\n",
    "# print(f'Filtered sentence: {filtered_sentence}')\n",
    "# print(f'Stemmed sentence: {stemmed_sentence}')\n",
    "print(f'Lemmatized sentence: {lemmatized_sentence}')"
   ]
  },
  {
   "cell_type": "code",
   "execution_count": 19,
   "id": "5556d6cb",
   "metadata": {},
   "outputs": [
    {
     "ename": "SyntaxError",
     "evalue": "invalid syntax (1933465437.py, line 1)",
     "output_type": "error",
     "traceback": [
      "\u001b[0;36m  Input \u001b[0;32mIn [19]\u001b[0;36m\u001b[0m\n\u001b[0;31m    one reviewer mention watch 1 oz episode 'll hooked right exactly happen me. br br first thing struck oz\u001b[0m\n\u001b[0m        ^\u001b[0m\n\u001b[0;31mSyntaxError\u001b[0m\u001b[0;31m:\u001b[0m invalid syntax\n"
     ]
    }
   ],
   "source": [
    "one reviewer mention watch 1 oz episode 'll hooked right exactly happen me. br br first thing struck oz \n",
    "brutality unflinching scene violence set right word go trust show faint hearted timid show pull punch regard \n",
    "drug sex violence hardcore classic use word. br br call oz nickname give oswald maximum security state penitentary \n",
    "focus mainly emerald city experimental section prison cell glass front face inwards privacy high agenda em city home\n",
    "many .. aryan muslim gangsta latino christian italian irish .... scuffle death stare dodgy dealing shady agreement \n",
    "never far away. br br would say main appeal show due fact go show would n't dare forget pretty picture paint\n",
    "mainstream audience forget charm forget romance ... oz n't mess around first episode ever saw struck nasty surreal \n",
    "could n't say ready watch developed taste oz get accustom high level graphic violence violence injustice crooked \n",
    "guard 'll sell nickel inmate 'll kill order get away well mannered middle class inmate turn prison bitch due lack \n",
    "street skill prison experience watch oz may become comfortable uncomfortable view .... thats get touch darker side"
   ]
  },
  {
   "cell_type": "code",
   "execution_count": 43,
   "id": "8cfcf439",
   "metadata": {},
   "outputs": [],
   "source": [
    "str1=\"one reviewer mentioned watching episode hooked right exactly happened first thing struck brutality unflinching scene violence set right word trust notshow faint hearted timid show pull punch regard drug sex violence hardcore classic use word called nickname given oswald maximum security state penitentary focus mainly emerald city experimental section prison cell glass front face inwards privacy high agenda city home many aryan muslim gangsta latino christian italian irish scuffle death stare dodgy dealing shady agreement never far away brwould say main appeal show due fact show wouldndare forget pretty picture painted mainstream audience forget charm forget romance doesnmess around first episodeever saw struck nasty surrealcouldnsaywas ready aswatched moredevelopedtaste got accustomed high level graphic violence violence injustice crooked guard sold fornickel inmate kill order get away well mannered middle class inmate turned prison bitch due lack street skill prison experience watching may become comfortable uncomfortable viewing thats get touch darker side\"\n",
    "str2=\"one reviewer mentioned watching episode hooked right exactly happened first thing struck brutality unflinching scene violence set right word trust notshow faint hearted timid show pull punch regard drug sex violence hardcore classic use word called nickname given oswald maximum security state penitentary focus mainly emerald city experimental section prison cell glass front face inwards privacy high agenda city home many aryan muslim gangsta latino christian italian irish scuffle death stare dodgy dealing shady agreement never far away brwould say main appeal show due fact show wouldndare forget pretty picture painted mainstream audience forget charm forget romance doesnmess around first episodeever saw struck nasty surrealcouldnsaywas ready aswatched moredevelopedtaste got accustomed high level graphic violence violence injustice crooked guard sold fornickel inmate kill order get away well mannered middle class inmate turned prison bitch due lack street skill prison experience watching may become comfortable uncomfortable viewing thats get touch darker side\""
   ]
  },
  {
   "cell_type": "code",
   "execution_count": 44,
   "id": "fa5d2a1c",
   "metadata": {},
   "outputs": [
    {
     "name": "stdout",
     "output_type": "stream",
     "text": [
      "True\n"
     ]
    }
   ],
   "source": [
    "\n",
    "print(str1==str2)"
   ]
  },
  {
   "cell_type": "code",
   "execution_count": null,
   "id": "ef11c787",
   "metadata": {},
   "outputs": [],
   "source": []
  }
 ],
 "metadata": {
  "kernelspec": {
   "display_name": "Python 3 (ipykernel)",
   "language": "python",
   "name": "python3"
  },
  "language_info": {
   "codemirror_mode": {
    "name": "ipython",
    "version": 3
   },
   "file_extension": ".py",
   "mimetype": "text/x-python",
   "name": "python",
   "nbconvert_exporter": "python",
   "pygments_lexer": "ipython3",
   "version": "3.9.13"
  }
 },
 "nbformat": 4,
 "nbformat_minor": 5
}
